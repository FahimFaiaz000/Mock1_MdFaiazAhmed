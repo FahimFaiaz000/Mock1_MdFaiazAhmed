{
 "cells": [
  {
   "cell_type": "markdown",
   "id": "bac2d83f",
   "metadata": {},
   "source": [
    "# 2) How can you select specific columns from a DataFrame?"
   ]
  },
  {
   "cell_type": "code",
   "execution_count": null,
   "id": "c8d8cada",
   "metadata": {},
   "outputs": [],
   "source": [
    "df[['any_column1', 'any_column2']]"
   ]
  }
 ],
 "metadata": {
  "kernelspec": {
   "display_name": "Python 3 (ipykernel)",
   "language": "python",
   "name": "python3"
  },
  "language_info": {
   "codemirror_mode": {
    "name": "ipython",
    "version": 3
   },
   "file_extension": ".py",
   "mimetype": "text/x-python",
   "name": "python",
   "nbconvert_exporter": "python",
   "pygments_lexer": "ipython3",
   "version": "3.9.13"
  }
 },
 "nbformat": 4,
 "nbformat_minor": 5
}
