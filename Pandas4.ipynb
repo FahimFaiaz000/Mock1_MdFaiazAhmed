{
 "cells": [
  {
   "cell_type": "markdown",
   "id": "61d1f216",
   "metadata": {},
   "source": [
    "# 4) How can you group data in a DataFrame by a specific column and apply an aggregate function?"
   ]
  },
  {
   "cell_type": "code",
   "execution_count": 1,
   "id": "7f500bde",
   "metadata": {},
   "outputs": [
    {
     "name": "stdout",
     "output_type": "stream",
     "text": [
      "Category\n",
      "A     90\n",
      "B    120\n",
      "Name: Values, dtype: int64\n"
     ]
    }
   ],
   "source": [
    "import pandas as pd\n",
    "data = {\n",
    "    'Category': ['A', 'B', 'A', 'B', 'A', 'B'],\n",
    "    'Values': [10, 20, 30, 40, 50, 60]\n",
    "}\n",
    "df = pd.DataFrame(data)\n",
    "grouped_df = df.groupby('Category')['Values'].sum()\n",
    "print(grouped_df)"
   ]
  }
 ],
 "metadata": {
  "kernelspec": {
   "display_name": "Python 3 (ipykernel)",
   "language": "python",
   "name": "python3"
  },
  "language_info": {
   "codemirror_mode": {
    "name": "ipython",
    "version": 3
   },
   "file_extension": ".py",
   "mimetype": "text/x-python",
   "name": "python",
   "nbconvert_exporter": "python",
   "pygments_lexer": "ipython3",
   "version": "3.9.13"
  }
 },
 "nbformat": 4,
 "nbformat_minor": 5
}
