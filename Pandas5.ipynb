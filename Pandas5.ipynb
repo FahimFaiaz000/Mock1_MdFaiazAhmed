{
 "cells": [
  {
   "cell_type": "markdown",
   "id": "2cfdf71e",
   "metadata": {},
   "source": [
    "# 5) Explain how to merge two DataFrames on a common column."
   ]
  },
  {
   "cell_type": "code",
   "execution_count": 3,
   "id": "41e48cc6",
   "metadata": {},
   "outputs": [
    {
     "name": "stdout",
     "output_type": "stream",
     "text": [
      "   ID     Name  Age\n",
      "0   3  Charlie   25\n",
      "1   4    David   30\n"
     ]
    }
   ],
   "source": [
    "import pandas as pd\n",
    "data1 = {\n",
    "    'ID': [1, 2, 3, 4],\n",
    "    'Name': ['Alice', 'Bob', 'Charlie', 'David']\n",
    "}\n",
    "df1 = pd.DataFrame(data1)\n",
    "data2 = {\n",
    "    'ID': [3, 4, 5, 6],\n",
    "    'Age': [25, 30, 35, 40]\n",
    "}\n",
    "df2 = pd.DataFrame(data2)\n",
    "\n",
    "merged_df = pd.merge(df1, df2, on='ID', how='inner')\n",
    "print(merged_df)\n"
   ]
  }
 ],
 "metadata": {
  "kernelspec": {
   "display_name": "Python 3 (ipykernel)",
   "language": "python",
   "name": "python3"
  },
  "language_info": {
   "codemirror_mode": {
    "name": "ipython",
    "version": 3
   },
   "file_extension": ".py",
   "mimetype": "text/x-python",
   "name": "python",
   "nbconvert_exporter": "python",
   "pygments_lexer": "ipython3",
   "version": "3.9.13"
  }
 },
 "nbformat": 4,
 "nbformat_minor": 5
}
