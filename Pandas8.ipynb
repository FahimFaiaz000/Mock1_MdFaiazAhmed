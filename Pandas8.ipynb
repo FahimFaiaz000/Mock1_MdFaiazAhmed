{
 "cells": [
  {
   "cell_type": "markdown",
   "id": "973d2643",
   "metadata": {},
   "source": [
    "# 8) What is the difference between iloc and loc in Pandas?"
   ]
  },
  {
   "cell_type": "code",
   "execution_count": 5,
   "id": "f292a501",
   "metadata": {},
   "outputs": [
    {
     "name": "stdout",
     "output_type": "stream",
     "text": [
      "Original DataFrame:\n",
      "      Name  Age         City\n",
      "0    Alice   24     New York\n",
      "1      Bob   27  Los Angeles\n",
      "2  Charlie   22      Chicago\n",
      "3    David   32      Houston\n",
      "4      Eve   29      Phoenix\n",
      "\n",
      "Using iloc to select the first three rows and the first two columns:\n",
      "      Name  Age\n",
      "0    Alice   24\n",
      "1      Bob   27\n",
      "2  Charlie   22\n",
      "\n",
      "Using loc to select rows with index 1 and 3, and columns 'Name' and 'Age':\n",
      "    Name  Age\n",
      "1    Bob   27\n",
      "3  David   32\n"
     ]
    }
   ],
   "source": [
    "import pandas as pd\n",
    "\n",
    "data = {\n",
    "    'Name': ['Alice', 'Bob', 'Charlie', 'David', 'Eve'],\n",
    "    'Age': [24, 27, 22, 32, 29],\n",
    "    'City': ['New York', 'Los Angeles', 'Chicago', 'Houston', 'Phoenix']\n",
    "}\n",
    "df = pd.DataFrame(data)\n",
    "\n",
    "print(\"Original DataFrame:\")\n",
    "print(df)\n",
    "iloc_example = df.iloc[:3, :2]\n",
    "\n",
    "print(\"\\nUsing iloc to select the first three rows and the first two columns:\")\n",
    "print(iloc_example)\n",
    "\n",
    "# Select rows where index labels are 1 and 3, and columns 'Name' and 'Age'\n",
    "loc_example = df.loc[[1, 3], ['Name', 'Age']]\n",
    "\n",
    "print(\"\\nUsing loc to select rows with index 1 and 3, and columns 'Name' and 'Age':\")\n",
    "print(loc_example)\n"
   ]
  },
  {
   "cell_type": "code",
   "execution_count": null,
   "id": "d724e085",
   "metadata": {},
   "outputs": [],
   "source": []
  }
 ],
 "metadata": {
  "kernelspec": {
   "display_name": "Python 3 (ipykernel)",
   "language": "python",
   "name": "python3"
  },
  "language_info": {
   "codemirror_mode": {
    "name": "ipython",
    "version": 3
   },
   "file_extension": ".py",
   "mimetype": "text/x-python",
   "name": "python",
   "nbconvert_exporter": "python",
   "pygments_lexer": "ipython3",
   "version": "3.9.13"
  }
 },
 "nbformat": 4,
 "nbformat_minor": 5
}
