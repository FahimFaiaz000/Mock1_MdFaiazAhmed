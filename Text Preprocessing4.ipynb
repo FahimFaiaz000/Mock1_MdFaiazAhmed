{
 "cells": [
  {
   "cell_type": "markdown",
   "id": "f9541c83",
   "metadata": {},
   "source": [
    "# 4) How do you handle punctuation in text preprocessing? Provide a Python example."
   ]
  },
  {
   "cell_type": "code",
   "execution_count": 5,
   "id": "32b1a3af",
   "metadata": {},
   "outputs": [
    {
     "name": "stdout",
     "output_type": "stream",
     "text": [
      "Original DataFrame:\n",
      "                                          Text\n",
      "0                                Hello, world!\n",
      "1                 This is an example sentence.\n",
      "2         Text preprocessing is fun: isn't it?\n",
      "3  Let's clean this text - remove punctuation;\n",
      "4                     Do you agree? Yes, I do!\n"
     ]
    }
   ],
   "source": [
    "import re\n",
    "import pandas as pd\n",
    "\n",
    "data = {\n",
    "    'Text': [\n",
    "        'Hello, world!',\n",
    "        'This is an example sentence.',\n",
    "        'Text preprocessing is fun: isn\\'t it?',\n",
    "        'Let\\'s clean this text - remove punctuation;',\n",
    "        'Do you agree? Yes, I do!'\n",
    "    ]\n",
    "}\n",
    "df = pd.DataFrame(data)\n",
    "\n",
    "print(\"Original DataFrame:\")\n",
    "print(df)\n"
   ]
  },
  {
   "cell_type": "code",
   "execution_count": 6,
   "id": "5c8ae6f8",
   "metadata": {},
   "outputs": [],
   "source": [
    "def remove_punctuation(text):\n",
    "    return re.sub(r'[^\\w\\s]', '', text)"
   ]
  },
  {
   "cell_type": "code",
   "execution_count": 7,
   "id": "9af9374f",
   "metadata": {},
   "outputs": [
    {
     "name": "stdout",
     "output_type": "stream",
     "text": [
      "\n",
      "DataFrame after removing punctuation:\n",
      "0                                 Hello world\n",
      "1                 This is an example sentence\n",
      "2           Text preprocessing is fun isnt it\n",
      "3    Lets clean this text  remove punctuation\n",
      "4                       Do you agree Yes I do\n",
      "Name: Cleaned_Text, dtype: object\n"
     ]
    }
   ],
   "source": [
    "df['Cleaned_Text'] = df['Text'].apply(remove_punctuation)\n",
    "\n",
    "print(\"\\nDataFrame after removing punctuation:\")\n",
    "print(df['Cleaned_Text'])"
   ]
  }
 ],
 "metadata": {
  "kernelspec": {
   "display_name": "Python 3 (ipykernel)",
   "language": "python",
   "name": "python3"
  },
  "language_info": {
   "codemirror_mode": {
    "name": "ipython",
    "version": 3
   },
   "file_extension": ".py",
   "mimetype": "text/x-python",
   "name": "python",
   "nbconvert_exporter": "python",
   "pygments_lexer": "ipython3",
   "version": "3.9.13"
  }
 },
 "nbformat": 4,
 "nbformat_minor": 5
}
