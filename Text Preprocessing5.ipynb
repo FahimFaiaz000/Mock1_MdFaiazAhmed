{
 "cells": [
  {
   "cell_type": "markdown",
   "id": "7e4fc8b6",
   "metadata": {},
   "source": [
    "# 5) Why is it important to remove stop words in text preprocessing? How can you do it in Python?"
   ]
  },
  {
   "cell_type": "code",
   "execution_count": 1,
   "id": "fb17a0c5",
   "metadata": {},
   "outputs": [
    {
     "name": "stderr",
     "output_type": "stream",
     "text": [
      "[nltk_data] Downloading package stopwords to\n",
      "[nltk_data]     C:\\Users\\fahim\\AppData\\Roaming\\nltk_data...\n",
      "[nltk_data]   Package stopwords is already up-to-date!\n"
     ]
    },
    {
     "data": {
      "text/plain": [
       "True"
      ]
     },
     "execution_count": 1,
     "metadata": {},
     "output_type": "execute_result"
    }
   ],
   "source": [
    "import nltk\n",
    "nltk.download('stopwords')"
   ]
  },
  {
   "cell_type": "code",
   "execution_count": 5,
   "id": "8e5e66d6",
   "metadata": {},
   "outputs": [
    {
     "name": "stdout",
     "output_type": "stream",
     "text": [
      "Original text: This is some text with stop words like the, a, an, is, etc. Let's see how we handle it.\n",
      "Preprocessed text: text stop words like the, a, an, is, etc. let's see handle it.\n"
     ]
    }
   ],
   "source": [
    "from nltk.corpus import stopwords\n",
    "from nltk.tokenize import word_tokenize\n",
    "\n",
    "text = \"This is some text with stop words like the, a, an, is, etc. Let's see how we handle it.\"\n",
    "\n",
    "stop_words = set(stopwords.words('english'))\n",
    "\n",
    "filtered_text = [word for word in text.lower().split() if word not in stop_words]\n",
    "\n",
    "print(\"Original text:\", text)\n",
    "print(\"Preprocessed text:\", ' '.join(filtered_text))"
   ]
  }
 ],
 "metadata": {
  "kernelspec": {
   "display_name": "Python 3 (ipykernel)",
   "language": "python",
   "name": "python3"
  },
  "language_info": {
   "codemirror_mode": {
    "name": "ipython",
    "version": 3
   },
   "file_extension": ".py",
   "mimetype": "text/x-python",
   "name": "python",
   "nbconvert_exporter": "python",
   "pygments_lexer": "ipython3",
   "version": "3.9.13"
  }
 },
 "nbformat": 4,
 "nbformat_minor": 5
}
