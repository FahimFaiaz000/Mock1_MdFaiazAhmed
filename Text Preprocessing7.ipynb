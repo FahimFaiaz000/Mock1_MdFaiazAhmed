{
 "cells": [
  {
   "cell_type": "markdown",
   "id": "8b141111",
   "metadata": {},
   "source": [
    "# 7) How can you remove numeric values from a text in Python? Provide an example."
   ]
  },
  {
   "cell_type": "code",
   "execution_count": 1,
   "id": "91e48939",
   "metadata": {},
   "outputs": [
    {
     "name": "stdout",
     "output_type": "stream",
     "text": [
      "Original text: This text has 123 numbers like 456.78 and even 0!\n",
      "Cleaned text: This text has  numbers like . and even !\n"
     ]
    }
   ],
   "source": [
    "import re\n",
    "\n",
    "text = \"This text has 123 numbers like 456.78 and even 0!\"\n",
    "\n",
    "pattern = r\"\\d+\"\n",
    "\n",
    "cleaned_text = re.sub(pattern, \"\", text)\n",
    "\n",
    "print(\"Original text:\", text)\n",
    "print(\"Cleaned text:\", cleaned_text)"
   ]
  },
  {
   "cell_type": "code",
   "execution_count": null,
   "id": "453c17ad",
   "metadata": {},
   "outputs": [],
   "source": []
  }
 ],
 "metadata": {
  "kernelspec": {
   "display_name": "Python 3 (ipykernel)",
   "language": "python",
   "name": "python3"
  },
  "language_info": {
   "codemirror_mode": {
    "name": "ipython",
    "version": 3
   },
   "file_extension": ".py",
   "mimetype": "text/x-python",
   "name": "python",
   "nbconvert_exporter": "python",
   "pygments_lexer": "ipython3",
   "version": "3.9.13"
  }
 },
 "nbformat": 4,
 "nbformat_minor": 5
}
