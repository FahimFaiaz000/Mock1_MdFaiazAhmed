{
 "cells": [
  {
   "cell_type": "markdown",
   "id": "694f99a8",
   "metadata": {},
   "source": [
    "# 8) What is the purpose of normalization in text preprocessing? Give an example."
   ]
  },
  {
   "cell_type": "code",
   "execution_count": 3,
   "id": "4a879604",
   "metadata": {},
   "outputs": [
    {
     "name": "stdout",
     "output_type": "stream",
     "text": [
      "Original text: Running is a great exercise that helps in maintaining fitness.\n",
      "Stemmed text: run is a great exercis that help in maintain fitness.\n"
     ]
    }
   ],
   "source": [
    "from nltk.stem import PorterStemmer\n",
    "\n",
    "text = \"Running is a great exercise that helps in maintaining fitness.\"\n",
    "\n",
    "stemmer = PorterStemmer()\n",
    "\n",
    "stemmed_text = [stemmer.stem(word) for word in text.lower().split()]\n",
    "\n",
    "cleaned_text = \" \".join(stemmed_text)\n",
    "\n",
    "print(\"Original text:\", text)\n",
    "print(\"Stemmed text:\", cleaned_text)"
   ]
  }
 ],
 "metadata": {
  "kernelspec": {
   "display_name": "Python 3 (ipykernel)",
   "language": "python",
   "name": "python3"
  },
  "language_info": {
   "codemirror_mode": {
    "name": "ipython",
    "version": 3
   },
   "file_extension": ".py",
   "mimetype": "text/x-python",
   "name": "python",
   "nbconvert_exporter": "python",
   "pygments_lexer": "ipython3",
   "version": "3.9.13"
  }
 },
 "nbformat": 4,
 "nbformat_minor": 5
}
