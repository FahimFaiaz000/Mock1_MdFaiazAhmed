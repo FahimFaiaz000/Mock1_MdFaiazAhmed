{
 "cells": [
  {
   "cell_type": "markdown",
   "id": "a98535e9",
   "metadata": {},
   "source": [
    "# 4) Describe how you can create a TF-IDF representation of a text corpus using Python."
   ]
  },
  {
   "cell_type": "code",
   "execution_count": 2,
   "id": "d1a07cc2",
   "metadata": {},
   "outputs": [
    {
     "name": "stdout",
     "output_type": "stream",
     "text": [
      "[[0.         0.         0.         0.35253072 0.20821032 0.35253072\n",
      "  0.35253072 0.20821032 0.         0.         0.         0.\n",
      "  0.         0.         0.         0.70506145 0.20821032]\n",
      " [0.44514923 0.         0.         0.         0.26291231 0.\n",
      "  0.         0.26291231 0.         0.44514923 0.44514923 0.\n",
      "  0.44514923 0.         0.         0.         0.26291231]\n",
      " [0.         0.37671579 0.37671579 0.         0.22249441 0.\n",
      "  0.         0.22249441 0.37671579 0.         0.         0.37671579\n",
      "  0.         0.37671579 0.37671579 0.         0.22249441]]\n"
     ]
    }
   ],
   "source": [
    "from sklearn.feature_extraction.text import TfidfVectorizer\n",
    "\n",
    "corpus = [\n",
    "    \"This is the first document in the corpus.\",\n",
    "    \"This document is about natural language processing.\",\n",
    "    \"This is a shorter document but still contains NLP keywords.\"\n",
    "]\n",
    "\n",
    "vectorizer = TfidfVectorizer() \n",
    "\n",
    "tfidf_matrix = vectorizer.fit_transform(corpus)\n",
    "\n",
    "print(tfidf_matrix.toarray())"
   ]
  },
  {
   "cell_type": "code",
   "execution_count": null,
   "id": "07b48dea",
   "metadata": {},
   "outputs": [],
   "source": []
  }
 ],
 "metadata": {
  "kernelspec": {
   "display_name": "Python 3 (ipykernel)",
   "language": "python",
   "name": "python3"
  },
  "language_info": {
   "codemirror_mode": {
    "name": "ipython",
    "version": 3
   },
   "file_extension": ".py",
   "mimetype": "text/x-python",
   "name": "python",
   "nbconvert_exporter": "python",
   "pygments_lexer": "ipython3",
   "version": "3.9.13"
  }
 },
 "nbformat": 4,
 "nbformat_minor": 5
}
